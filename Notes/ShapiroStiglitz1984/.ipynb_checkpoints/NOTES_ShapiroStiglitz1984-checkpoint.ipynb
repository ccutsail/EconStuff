{
 "cells": [
  {
   "cell_type": "markdown",
   "metadata": {},
   "source": [
    "##### Equilibrium Unemployment as a Worker Discipline Device\n",
    "###### Shapiro, Stiglitz\n",
    "###### AER 1974\n",
    "\n",
    "Why don't wages adjust so that involuntarily unemployment doesn't exist? Employers can't costlessly observe effort, a fact that may sustain positive involuntary unemployment in equilibrium. The general idea: the incentive to work needs to be large enough that it offsets the risk of being caught not working. Stiglitz and Shapiro use the equilibrium unemployment rate as a measure of the incentive to work. Employer offered wage exceeds the 'going wage' (is this the equilibrium wage? or like \"the wage that you would receive if you are a 'shirk type' + some additional wage because you have signaled to me that you are not a shirker\" ?) All firms face same problem, so all firms raise wages above going rate, causing unemployment. \n",
    "\n",
    "The first five paragraphs say a whole bunch of things where the mechanisms that generate what they're talking about are fuzzy to me. What do they mean by going wage? Why is it the case that once you're fired, you can't be immediately rehired? The fact that the wage is above the 'going rate' implies that firms hire less workers than they would if the wage were equal to the going rate. The going rate should be the rate the firms would pay if they weren't paying above the going rate. This seems circular, but it's the way I'm justifying it and it makes sense to me. The issue I think I'm having: If you're fired, I would hire you at the going rate instead of above the going rate because you've signaled that you might be a shirker. That's an extra little layer and its not what they're doing here. They're saying that firms pay a single fixed rate to all employees, lowering demand for labor and generating unemployment for a fixed worker population. If caught shirking, you'll lose your job and end up in this unemployed pool indefinitely. I feel like this is weird too - how do you get 'out' of unemployment. Calvo invented equilibrium unemployment. \n",
    "\n",
    "Punishment associated with being fired is endogenous, depending on the eq. rate of unemployment. That's what I expected was the point of the paper (if unemployment rate is treated as exogenous, what's the point?) I feel like they weren't super explicit about it, so I'm counting it as a win. \n",
    "\n",
    "Workers have perfect information about all job opportunities, workers prefer to work at wages below market rate. No vacancies exist. I am still really confused about the unemployment-reemployment process at work here.\n",
    "\n",
    "Theoretical implications: UI increases unemployment rate because it reduces the monetary penalty of being fired. I wrote monetary there because I feel like there is a distinction made in this paper between the salary loss of unemployment and the 'cost' of unemployment as a mechanism. You could probably say the two are the same in some sense, but the former varies with UI benefits while the underlying mechanism that affects the decision making process is still there. If you're fired without UI: lose 100% of your salary, with UI: lose 67% of your salary. That is a part of the employee's decision whether or not to shirk, but does it affect how firms set wages? The firm wage-setting process is based on employer belief about employee quality (presumably). If it affects employee behavior and behavior is observable, it should update employer beliefs. \n",
    "\n",
    "II. Wages adjust slowly in the face of aggregate shocks. \"Lower labor demand implies lower wages and higher unemployment levels, wage decreases match growth in the unemployment pool.\" Why are we talking about wage decreases? Firms set prices above equilibrium values, then lower wages for fired employees. When they talk about wage decreases here I feel like the wage assignment mechanism is really fuzzy. Like are firms assigning a fixed wage to all employees who were fired in a previous period? And then if that wage exceeds reservation wage the employee accepts the job? No vacancies would mean there is no reservation wage so this definitely isn't it, but the first part might be. I think I need to just skip to the model here. \n",
    "\n",
    "###### I. The Basic Model\n",
    "$N$ workers, $U(w,e) = u_w(w) + u_e(e)$ $w=$wage, $e=$effort, $\\partial U/\\partial w > 0$ $\\partial U/\\partial e < 0$, risk neutrality $\\Rightarrow U = w - e$. $e\\in\\{0,\\bar{e}\\}$. Folks maximize $$W = \\mathbb{E}\\left[\\int\\limits_0^\\infty u(w(t), e(t))e^{-rt}dt\\right] $$ because for some reason this needs to be in continuous time. Workers have to choose an effort level. Choosing not to shirk implies $U(w,\\bar{e}) = w-\\bar{e}$, shirking gives a payoff of $U(w,0) = w$. This next one took me a minute: $$rV^S_E = w + (b+q)(V_u - V^S_E) $$\n",
    "\n",
    "$r$ is the discount factor. $V$ is the expected lifetime utility, the subscript gives employment status, and the superscript gives 'shirker' status. $b$ is the probability you are exogenously separated -- i.e., you had to move. $q$ is the probability you will be caught shirking. The left-hand side then gives the payoff from shirking ($w$) plus the expected continuation value from shirking, which is the difference between the value of being unemployed less the value of being employed while shirking. That looks backwatd to me. With these definitions, the nonshirker definition is easy. There are two differences: 1. instantaneous utility now sees the loss from effort, and 2. the probability of being caught shirking ($q$) is zero. Then we have $$rV^N_E = w-e+b(V_U-V^N_E).$$ Still looks backward. They call these 'fundamental asset value equations', and note that both are of the form 'interest rate times asset value equals flow benefits (dividends) plus expected capital gains (or losses).' Also interesting to note that they're approximate?  They solve these algebraically and derive a no-shirking condition, $V_E^N \\geq V_E^S$.\n",
    "\n",
    "$$(r+b)V^N_E = w-\\bar{e}+bV_U \\Rightarrow V^N_E = \\frac{w - \\bar{e} + bV_u}{r+b}  $$\n",
    "._.\n",
    "$$(r+b+q)V^S_E = w + (b+q)V_u \\Rightarrow V^S_E = \\frac{w + (b+q)V_u}{r+b+q} $$\n"
   ]
  },
  {
   "cell_type": "markdown",
   "metadata": {},
   "source": [
    "Then $$V^N_E \\geq V^S_E\\Rightarrow \\frac{w - e + bV_u}{r+b} \\geq \\frac{w + (b+q)V_u}{r+b+q} $$"
   ]
  },
  {
   "cell_type": "markdown",
   "metadata": {},
   "source": [
    "$$(r+b+q)(w - \\bar{e} + bV_u) \\geq (r+b)(w + (b+q)V_u) $$"
   ]
  },
  {
   "cell_type": "markdown",
   "metadata": {},
   "source": [
    "$$(r+b+q)(w - \\bar{e} + bV_u) \\geq (r+b)(w + (b+q)V_u) $$\n",
    "$$rw + bw + qw - r\\bar{e} - b\\bar{e} - q\\bar{e} + rbV_U + b^2V_U + qbV_U \\geq rw + bw + rbV_u + b^2V_U + rqV_U + bqV_U$$\n",
    "\n"
   ]
  },
  {
   "cell_type": "markdown",
   "metadata": {},
   "source": [
    "Cancelling, \n",
    "$$ qw - re - b\\bar{e} - qe   \\geq  rqV_U $$\n",
    "Rearranging\n",
    "$$ qw \\geq rqV_U + (r+b+q)\\bar{e}$$\n",
    "Dividing by $q$,\n",
    "$$ w \\geq rV_u + (r+b+q)e/q$$\n",
    "\n",
    "This is how they initially write the condition. They also write $q(V^S_E-V_U)\\geq \\bar{e}$. How did they get there? I don't feel like doing the algebra right now. 'Natural implications' of the no-shirking condition: there is a wage that induces people not to work. As this wage increases, so does the required effort, the expected utility of unemployment, the interest rate, and the exogenous quit rate part. I don't understand the exogenous quit rate. The probability of being caught shirking falls as the shirk-free wage rises. Is this that fewer workers are shirking, or firm beliefs changing as fewer workers shirk reducing monitoring and actually lowering the probability of being caught shirking? It isn't obvious to me how this is a result of the no-shirking condition."
   ]
  },
  {
   "cell_type": "markdown",
   "metadata": {},
   "source": [
    "Firms! Always so simple. Firm $i$ produces $Q_i=f(L_i)$, which yields aggregate production $Q = f(L)$. If an employee shirks, his contribution to $L_i$ is zero, if not, contribution is 1. Firms compete on wage offerings subject to constraint that workers choose not to shirk, i.e., the no-shirk (incentive compatibility?) condition holds for all firm wage offerings. They also assume that $F'(N) > \\bar e$, say it means that full employment is efficient. Why does it mean that? Output is increasing at a rate that exceeds the cost of effort to the worker when everyone is increasing. I'm not sure how to interpret that other than what is given, which doesn't make a ton of sense to me at face value. Monitoring technology $q$ is exogenous. Firms offer wages and unemployment benefits (that seems weird to me -- is the interpretation like a severance package?). Firing shirkers is optimal, because if you just offer them a lower wage, they'll definitely want to shirk again! This makes sense, but I still don't understand how shirkers ever get jobs after their initial firing. $f'(L_i) = \\hat w$, the 'critical wage' discussed earlier. "
   ]
  },
  {
   "cell_type": "markdown",
   "metadata": {},
   "source": [
    "Equilibrium! I kind of got tired after firms so these are a bit more sparse. Basically they aggregate the no shirking condition by developing the same fundamental asset value equation for $V_U$ and rearranging the no shirking condition. They do some steady state stuff that shows you can't have both no shirking and full employment because workers would choose to shirk.Equilibrium: Aggregate Labor Demand = Aggregate NSC. Some plots of employment equilibrium. Comparative statics: probably something to do yourself here. Welfare analysis: equilibrium not Pareto optimal Where is the failure? Guess, FWT: In this model information costs are transaction costs."
   ]
  },
  {
   "cell_type": "markdown",
   "metadata": {},
   "source": []
  }
 ],
 "metadata": {
  "kernelspec": {
   "display_name": "Python 3",
   "language": "python",
   "name": "python3"
  },
  "language_info": {
   "codemirror_mode": {
    "name": "ipython",
    "version": 3
   },
   "file_extension": ".py",
   "mimetype": "text/x-python",
   "name": "python",
   "nbconvert_exporter": "python",
   "pygments_lexer": "ipython3",
   "version": "3.7.1"
  }
 },
 "nbformat": 4,
 "nbformat_minor": 4
}
